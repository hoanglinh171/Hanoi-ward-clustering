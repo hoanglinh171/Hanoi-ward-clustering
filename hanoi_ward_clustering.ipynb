{
 "cells": [
  {
   "cell_type": "code",
   "execution_count": 1,
   "metadata": {},
   "outputs": [],
   "source": [
    "import pandas as pd\n",
    "import numpy as np\n",
    "import matplotlib.pyplot as plt\n",
    "%matplotlib inline"
   ]
  },
  {
   "cell_type": "code",
   "execution_count": 2,
   "metadata": {},
   "outputs": [
    {
     "data": {
      "text/html": [
       "<div>\n",
       "<style scoped>\n",
       "    .dataframe tbody tr th:only-of-type {\n",
       "        vertical-align: middle;\n",
       "    }\n",
       "\n",
       "    .dataframe tbody tr th {\n",
       "        vertical-align: top;\n",
       "    }\n",
       "\n",
       "    .dataframe thead th {\n",
       "        text-align: right;\n",
       "    }\n",
       "</style>\n",
       "<table border=\"1\" class=\"dataframe\">\n",
       "  <thead>\n",
       "    <tr style=\"text-align: right;\">\n",
       "      <th></th>\n",
       "      <th>district</th>\n",
       "      <th>district_id</th>\n",
       "      <th>ward</th>\n",
       "      <th>ward_id</th>\n",
       "      <th>ward_level</th>\n",
       "      <th>area</th>\n",
       "      <th>pop_density</th>\n",
       "      <th>population</th>\n",
       "      <th>children_0_14</th>\n",
       "      <th>female_15_54</th>\n",
       "      <th>male_15_59</th>\n",
       "      <th>elders</th>\n",
       "      <th>no_household</th>\n",
       "      <th>no_household_w_home</th>\n",
       "    </tr>\n",
       "  </thead>\n",
       "  <tbody>\n",
       "    <tr>\n",
       "      <td>0</td>\n",
       "      <td>Quan Ba Dinh</td>\n",
       "      <td>1</td>\n",
       "      <td>Phuong Phuc Xa</td>\n",
       "      <td>1</td>\n",
       "      <td>Phuong</td>\n",
       "      <td>0.894</td>\n",
       "      <td>24.562</td>\n",
       "      <td>21,946</td>\n",
       "      <td>1,238</td>\n",
       "      <td>7,796</td>\n",
       "      <td>8,321</td>\n",
       "      <td>4,591</td>\n",
       "      <td>5,863</td>\n",
       "      <td>5,855</td>\n",
       "    </tr>\n",
       "    <tr>\n",
       "      <td>1</td>\n",
       "      <td>Quan Ba Dinh</td>\n",
       "      <td>1</td>\n",
       "      <td>Phuong Truc Bach</td>\n",
       "      <td>4</td>\n",
       "      <td>Phuong</td>\n",
       "      <td>0.506</td>\n",
       "      <td>13.962</td>\n",
       "      <td>7,065</td>\n",
       "      <td>320</td>\n",
       "      <td>2,301</td>\n",
       "      <td>2,475</td>\n",
       "      <td>1,969</td>\n",
       "      <td>1,948</td>\n",
       "      <td>1,948</td>\n",
       "    </tr>\n",
       "    <tr>\n",
       "      <td>2</td>\n",
       "      <td>Quan Ba Dinh</td>\n",
       "      <td>1</td>\n",
       "      <td>Phuong Vinh Phuc</td>\n",
       "      <td>6</td>\n",
       "      <td>Phuong</td>\n",
       "      <td>0.715</td>\n",
       "      <td>33.376</td>\n",
       "      <td>23,867</td>\n",
       "      <td>1,486</td>\n",
       "      <td>8,557</td>\n",
       "      <td>8,997</td>\n",
       "      <td>4,827</td>\n",
       "      <td>6,314</td>\n",
       "      <td>6,298</td>\n",
       "    </tr>\n",
       "    <tr>\n",
       "      <td>3</td>\n",
       "      <td>Quan Ba Dinh</td>\n",
       "      <td>1</td>\n",
       "      <td>Phuong Cong Vi</td>\n",
       "      <td>7</td>\n",
       "      <td>Phuong</td>\n",
       "      <td>0.538</td>\n",
       "      <td>29.723</td>\n",
       "      <td>15,979</td>\n",
       "      <td>856</td>\n",
       "      <td>5,577</td>\n",
       "      <td>5,983</td>\n",
       "      <td>3,563</td>\n",
       "      <td>4,357</td>\n",
       "      <td>4,349</td>\n",
       "    </tr>\n",
       "    <tr>\n",
       "      <td>4</td>\n",
       "      <td>Quan Ba Dinh</td>\n",
       "      <td>1</td>\n",
       "      <td>Phuong Lieu Giai</td>\n",
       "      <td>8</td>\n",
       "      <td>Phuong</td>\n",
       "      <td>0.681</td>\n",
       "      <td>30.974</td>\n",
       "      <td>21,084</td>\n",
       "      <td>1,153</td>\n",
       "      <td>7,400</td>\n",
       "      <td>7,819</td>\n",
       "      <td>4,712</td>\n",
       "      <td>5,639</td>\n",
       "      <td>5,637</td>\n",
       "    </tr>\n",
       "  </tbody>\n",
       "</table>\n",
       "</div>"
      ],
      "text/plain": [
       "       district  district_id              ward  ward_id ward_level   area  \\\n",
       "0  Quan Ba Dinh            1    Phuong Phuc Xa        1     Phuong  0.894   \n",
       "1  Quan Ba Dinh            1  Phuong Truc Bach        4     Phuong  0.506   \n",
       "2  Quan Ba Dinh            1  Phuong Vinh Phuc        6     Phuong  0.715   \n",
       "3  Quan Ba Dinh            1    Phuong Cong Vi        7     Phuong  0.538   \n",
       "4  Quan Ba Dinh            1  Phuong Lieu Giai        8     Phuong  0.681   \n",
       "\n",
       "   pop_density population children_0_14 female_15_54 male_15_59 elders  \\\n",
       "0       24.562     21,946         1,238        7,796      8,321  4,591   \n",
       "1       13.962      7,065           320        2,301      2,475  1,969   \n",
       "2       33.376     23,867         1,486        8,557      8,997  4,827   \n",
       "3       29.723     15,979           856        5,577      5,983  3,563   \n",
       "4       30.974     21,084         1,153        7,400      7,819  4,712   \n",
       "\n",
       "  no_household no_household_w_home  \n",
       "0        5,863               5,855  \n",
       "1        1,948               1,948  \n",
       "2        6,314               6,298  \n",
       "3        4,357               4,349  \n",
       "4        5,639               5,637  "
      ]
     },
     "execution_count": 2,
     "metadata": {},
     "output_type": "execute_result"
    }
   ],
   "source": [
    "df = pd.read_csv('Hanoi_Census_2020.csv').loc[:, 'district':]\n",
    "df.head()"
   ]
  },
  {
   "cell_type": "markdown",
   "metadata": {},
   "source": [
    "### Feature Selection"
   ]
  },
  {
   "cell_type": "markdown",
   "metadata": {},
   "source": [
    "Hanoi's ward will be clustered based on:\n",
    "- Population density\n",
    "- Average number of people per household\n",
    "- Percentage of children\n",
    "- Percentage of people in labor age\n",
    "- Percentage of elders\n",
    "\n",
    "Those features are comparative and have meaningful insights for ward comparison when clustering"
   ]
  },
  {
   "cell_type": "markdown",
   "metadata": {},
   "source": [
    "## 1. Data Transformation"
   ]
  },
  {
   "cell_type": "markdown",
   "metadata": {},
   "source": [
    "* Convert string of number to integer"
   ]
  },
  {
   "cell_type": "code",
   "execution_count": 3,
   "metadata": {},
   "outputs": [],
   "source": [
    "for i in df.loc[:, 'population':].columns:\n",
    "    df[i] = df[i].str.replace(',', '')\n",
    "    \n",
    "df.loc[:, 'population':] = df.loc[:, 'population':].astype(int)"
   ]
  },
  {
   "cell_type": "markdown",
   "metadata": {},
   "source": [
    "- Convert age groups: children, people in labor age and elders to percentage format of population"
   ]
  },
  {
   "cell_type": "code",
   "execution_count": 4,
   "metadata": {},
   "outputs": [],
   "source": [
    "for i in range(8, 12, 1):\n",
    "    df.iloc[:, i] = df.iloc[:, i] / df['population']\n",
    "    \n",
    "df['labor_age'] = df['female_15_54'] + df['male_15_59']"
   ]
  },
  {
   "cell_type": "markdown",
   "metadata": {},
   "source": [
    "* Calculate number of people per household and delete unnecessary columns"
   ]
  },
  {
   "cell_type": "code",
   "execution_count": null,
   "metadata": {},
   "outputs": [],
   "source": [
    "df['average_household'] = df['population'] / df['no_household']\n",
    "df = df.drop(columns=['district_id', 'ward_level', 'area','population', 'female_15_54', 'male_15_59', 'no_household_w_home', 'no_household'])\n",
    "df.head()"
   ]
  },
  {
   "cell_type": "code",
   "execution_count": 6,
   "metadata": {},
   "outputs": [
    {
     "data": {
      "text/html": [
       "<div>\n",
       "<style scoped>\n",
       "    .dataframe tbody tr th:only-of-type {\n",
       "        vertical-align: middle;\n",
       "    }\n",
       "\n",
       "    .dataframe tbody tr th {\n",
       "        vertical-align: top;\n",
       "    }\n",
       "\n",
       "    .dataframe thead th {\n",
       "        text-align: right;\n",
       "    }\n",
       "</style>\n",
       "<table border=\"1\" class=\"dataframe\">\n",
       "  <thead>\n",
       "    <tr style=\"text-align: right;\">\n",
       "      <th></th>\n",
       "      <th>ward_id</th>\n",
       "      <th>pop_density</th>\n",
       "      <th>children_0_14</th>\n",
       "      <th>elders</th>\n",
       "      <th>labor_age</th>\n",
       "      <th>average_household</th>\n",
       "    </tr>\n",
       "  </thead>\n",
       "  <tbody>\n",
       "    <tr>\n",
       "      <td>count</td>\n",
       "      <td>582.000000</td>\n",
       "      <td>582.000000</td>\n",
       "      <td>582.000000</td>\n",
       "      <td>582.000000</td>\n",
       "      <td>582.000000</td>\n",
       "      <td>582.000000</td>\n",
       "    </tr>\n",
       "    <tr>\n",
       "      <td>mean</td>\n",
       "      <td>6013.228522</td>\n",
       "      <td>8.694644</td>\n",
       "      <td>0.238462</td>\n",
       "      <td>0.200084</td>\n",
       "      <td>0.580560</td>\n",
       "      <td>3.728824</td>\n",
       "    </tr>\n",
       "    <tr>\n",
       "      <td>std</td>\n",
       "      <td>4729.798802</td>\n",
       "      <td>14.566439</td>\n",
       "      <td>0.043013</td>\n",
       "      <td>0.070906</td>\n",
       "      <td>0.059970</td>\n",
       "      <td>0.374434</td>\n",
       "    </tr>\n",
       "    <tr>\n",
       "      <td>min</td>\n",
       "      <td>1.000000</td>\n",
       "      <td>0.090000</td>\n",
       "      <td>0.044301</td>\n",
       "      <td>0.080214</td>\n",
       "      <td>0.283097</td>\n",
       "      <td>2.325817</td>\n",
       "    </tr>\n",
       "    <tr>\n",
       "      <td>25%</td>\n",
       "      <td>427.750000</td>\n",
       "      <td>1.282500</td>\n",
       "      <td>0.224744</td>\n",
       "      <td>0.148889</td>\n",
       "      <td>0.568851</td>\n",
       "      <td>3.487877</td>\n",
       "    </tr>\n",
       "    <tr>\n",
       "      <td>50%</td>\n",
       "      <td>9629.500000</td>\n",
       "      <td>2.171000</td>\n",
       "      <td>0.248083</td>\n",
       "      <td>0.176753</td>\n",
       "      <td>0.582293</td>\n",
       "      <td>3.718831</td>\n",
       "    </tr>\n",
       "    <tr>\n",
       "      <td>75%</td>\n",
       "      <td>10068.250000</td>\n",
       "      <td>6.183000</td>\n",
       "      <td>0.264924</td>\n",
       "      <td>0.257407</td>\n",
       "      <td>0.597792</td>\n",
       "      <td>3.972499</td>\n",
       "    </tr>\n",
       "    <tr>\n",
       "      <td>max</td>\n",
       "      <td>10504.000000</td>\n",
       "      <td>95.108000</td>\n",
       "      <td>0.321214</td>\n",
       "      <td>0.461146</td>\n",
       "      <td>0.786440</td>\n",
       "      <td>5.008977</td>\n",
       "    </tr>\n",
       "  </tbody>\n",
       "</table>\n",
       "</div>"
      ],
      "text/plain": [
       "            ward_id  pop_density  children_0_14      elders   labor_age  \\\n",
       "count    582.000000   582.000000     582.000000  582.000000  582.000000   \n",
       "mean    6013.228522     8.694644       0.238462    0.200084    0.580560   \n",
       "std     4729.798802    14.566439       0.043013    0.070906    0.059970   \n",
       "min        1.000000     0.090000       0.044301    0.080214    0.283097   \n",
       "25%      427.750000     1.282500       0.224744    0.148889    0.568851   \n",
       "50%     9629.500000     2.171000       0.248083    0.176753    0.582293   \n",
       "75%    10068.250000     6.183000       0.264924    0.257407    0.597792   \n",
       "max    10504.000000    95.108000       0.321214    0.461146    0.786440   \n",
       "\n",
       "       average_household  \n",
       "count         582.000000  \n",
       "mean            3.728824  \n",
       "std             0.374434  \n",
       "min             2.325817  \n",
       "25%             3.487877  \n",
       "50%             3.718831  \n",
       "75%             3.972499  \n",
       "max             5.008977  "
      ]
     },
     "execution_count": 6,
     "metadata": {},
     "output_type": "execute_result"
    }
   ],
   "source": [
    "df.describe()"
   ]
  },
  {
   "cell_type": "markdown",
   "metadata": {},
   "source": [
    "## 2. Standardize data"
   ]
  },
  {
   "cell_type": "markdown",
   "metadata": {},
   "source": [
    "Data are standardized to have the standard deviation = 1 and mean = 0 so that data are comparable"
   ]
  },
  {
   "cell_type": "code",
   "execution_count": 7,
   "metadata": {},
   "outputs": [
    {
     "data": {
      "text/html": [
       "<div>\n",
       "<style scoped>\n",
       "    .dataframe tbody tr th:only-of-type {\n",
       "        vertical-align: middle;\n",
       "    }\n",
       "\n",
       "    .dataframe tbody tr th {\n",
       "        vertical-align: top;\n",
       "    }\n",
       "\n",
       "    .dataframe thead th {\n",
       "        text-align: right;\n",
       "    }\n",
       "</style>\n",
       "<table border=\"1\" class=\"dataframe\">\n",
       "  <thead>\n",
       "    <tr style=\"text-align: right;\">\n",
       "      <th></th>\n",
       "      <th>pop_density</th>\n",
       "      <th>children_0_14</th>\n",
       "      <th>elders</th>\n",
       "      <th>labor_age</th>\n",
       "      <th>average_household</th>\n",
       "    </tr>\n",
       "  </thead>\n",
       "  <tbody>\n",
       "    <tr>\n",
       "      <td>0</td>\n",
       "      <td>1.090246</td>\n",
       "      <td>-4.236126</td>\n",
       "      <td>0.128607</td>\n",
       "      <td>2.567370</td>\n",
       "      <td>0.038252</td>\n",
       "    </tr>\n",
       "    <tr>\n",
       "      <td>1</td>\n",
       "      <td>0.361920</td>\n",
       "      <td>-4.494818</td>\n",
       "      <td>1.109658</td>\n",
       "      <td>1.592968</td>\n",
       "      <td>-0.272719</td>\n",
       "    </tr>\n",
       "    <tr>\n",
       "      <td>2</td>\n",
       "      <td>1.695856</td>\n",
       "      <td>-4.099990</td>\n",
       "      <td>0.030512</td>\n",
       "      <td>2.585712</td>\n",
       "      <td>0.136826</td>\n",
       "    </tr>\n",
       "    <tr>\n",
       "      <td>3</td>\n",
       "      <td>1.444859</td>\n",
       "      <td>-4.302230</td>\n",
       "      <td>0.323185</td>\n",
       "      <td>2.384723</td>\n",
       "      <td>-0.164102</td>\n",
       "    </tr>\n",
       "    <tr>\n",
       "      <td>4</td>\n",
       "      <td>1.530815</td>\n",
       "      <td>-4.276269</td>\n",
       "      <td>0.330339</td>\n",
       "      <td>2.357644</td>\n",
       "      <td>0.027095</td>\n",
       "    </tr>\n",
       "    <tr>\n",
       "      <td>...</td>\n",
       "      <td>...</td>\n",
       "      <td>...</td>\n",
       "      <td>...</td>\n",
       "      <td>...</td>\n",
       "      <td>...</td>\n",
       "    </tr>\n",
       "    <tr>\n",
       "      <td>577</td>\n",
       "      <td>-0.538868</td>\n",
       "      <td>0.132479</td>\n",
       "      <td>-0.457949</td>\n",
       "      <td>0.127577</td>\n",
       "      <td>-0.425968</td>\n",
       "    </tr>\n",
       "    <tr>\n",
       "      <td>578</td>\n",
       "      <td>-0.549312</td>\n",
       "      <td>0.586281</td>\n",
       "      <td>-0.764480</td>\n",
       "      <td>0.164523</td>\n",
       "      <td>-0.625972</td>\n",
       "    </tr>\n",
       "    <tr>\n",
       "      <td>579</td>\n",
       "      <td>-0.529249</td>\n",
       "      <td>0.490489</td>\n",
       "      <td>-0.834004</td>\n",
       "      <td>0.315429</td>\n",
       "      <td>0.382820</td>\n",
       "    </tr>\n",
       "    <tr>\n",
       "      <td>580</td>\n",
       "      <td>-0.521416</td>\n",
       "      <td>0.639348</td>\n",
       "      <td>-0.866755</td>\n",
       "      <td>0.247386</td>\n",
       "      <td>1.252076</td>\n",
       "    </tr>\n",
       "    <tr>\n",
       "      <td>581</td>\n",
       "      <td>-0.570681</td>\n",
       "      <td>0.881375</td>\n",
       "      <td>-1.170263</td>\n",
       "      <td>0.432649</td>\n",
       "      <td>1.103681</td>\n",
       "    </tr>\n",
       "  </tbody>\n",
       "</table>\n",
       "<p>582 rows × 5 columns</p>\n",
       "</div>"
      ],
      "text/plain": [
       "     pop_density  children_0_14    elders  labor_age  average_household\n",
       "0       1.090246      -4.236126  0.128607   2.567370           0.038252\n",
       "1       0.361920      -4.494818  1.109658   1.592968          -0.272719\n",
       "2       1.695856      -4.099990  0.030512   2.585712           0.136826\n",
       "3       1.444859      -4.302230  0.323185   2.384723          -0.164102\n",
       "4       1.530815      -4.276269  0.330339   2.357644           0.027095\n",
       "..           ...            ...       ...        ...                ...\n",
       "577    -0.538868       0.132479 -0.457949   0.127577          -0.425968\n",
       "578    -0.549312       0.586281 -0.764480   0.164523          -0.625972\n",
       "579    -0.529249       0.490489 -0.834004   0.315429           0.382820\n",
       "580    -0.521416       0.639348 -0.866755   0.247386           1.252076\n",
       "581    -0.570681       0.881375 -1.170263   0.432649           1.103681\n",
       "\n",
       "[582 rows x 5 columns]"
      ]
     },
     "execution_count": 7,
     "metadata": {},
     "output_type": "execute_result"
    }
   ],
   "source": [
    "from sklearn.preprocessing import StandardScaler\n",
    "scaler = StandardScaler()\n",
    "\n",
    "features = df.loc[:, 'pop_density':].columns\n",
    "X = df[features]\n",
    "scaler.fit(X)\n",
    "X_scaled = scaler.transform(X)\n",
    "df_scaled = pd.DataFrame(X_scaled, columns=features, index=df.index)\n",
    "df_scaled"
   ]
  },
  {
   "cell_type": "markdown",
   "metadata": {},
   "source": [
    "## 3. Principal Components Analysis"
   ]
  },
  {
   "cell_type": "markdown",
   "metadata": {},
   "source": [
    "From 5 features, we combine into 2 features, which makes the clustering algorithm more efficient and easy to visualize"
   ]
  },
  {
   "cell_type": "code",
   "execution_count": 8,
   "metadata": {},
   "outputs": [
    {
     "data": {
      "text/html": [
       "<div>\n",
       "<style scoped>\n",
       "    .dataframe tbody tr th:only-of-type {\n",
       "        vertical-align: middle;\n",
       "    }\n",
       "\n",
       "    .dataframe tbody tr th {\n",
       "        vertical-align: top;\n",
       "    }\n",
       "\n",
       "    .dataframe thead th {\n",
       "        text-align: right;\n",
       "    }\n",
       "</style>\n",
       "<table border=\"1\" class=\"dataframe\">\n",
       "  <thead>\n",
       "    <tr style=\"text-align: right;\">\n",
       "      <th></th>\n",
       "      <th>first_pc</th>\n",
       "      <th>second_pc</th>\n",
       "    </tr>\n",
       "  </thead>\n",
       "  <tbody>\n",
       "    <tr>\n",
       "      <td>0</td>\n",
       "      <td>4.271899</td>\n",
       "      <td>-0.023395</td>\n",
       "    </tr>\n",
       "    <tr>\n",
       "      <td>1</td>\n",
       "      <td>3.587012</td>\n",
       "      <td>1.239137</td>\n",
       "    </tr>\n",
       "    <tr>\n",
       "      <td>2</td>\n",
       "      <td>4.491955</td>\n",
       "      <td>-0.056756</td>\n",
       "    </tr>\n",
       "    <tr>\n",
       "      <td>3</td>\n",
       "      <td>4.463703</td>\n",
       "      <td>0.348572</td>\n",
       "    </tr>\n",
       "    <tr>\n",
       "      <td>4</td>\n",
       "      <td>4.409063</td>\n",
       "      <td>0.330299</td>\n",
       "    </tr>\n",
       "  </tbody>\n",
       "</table>\n",
       "</div>"
      ],
      "text/plain": [
       "   first_pc  second_pc\n",
       "0  4.271899  -0.023395\n",
       "1  3.587012   1.239137\n",
       "2  4.491955  -0.056756\n",
       "3  4.463703   0.348572\n",
       "4  4.409063   0.330299"
      ]
     },
     "execution_count": 8,
     "metadata": {},
     "output_type": "execute_result"
    }
   ],
   "source": [
    "from sklearn.decomposition import PCA\n",
    "\n",
    "pca = PCA(n_components=2)\n",
    "pca.fit(X_scaled)\n",
    "X_pca = pca.transform(X_scaled)\n",
    "\n",
    "df_pca = pd.DataFrame(X_pca, columns=['first_pc', 'second_pc'], index=df.index)\n",
    "df_pca.head()"
   ]
  },
  {
   "cell_type": "markdown",
   "metadata": {},
   "source": [
    "## 4. Build clustering"
   ]
  },
  {
   "cell_type": "code",
   "execution_count": 9,
   "metadata": {},
   "outputs": [],
   "source": [
    "from sklearn.cluster import KMeans\n",
    "from sklearn import metrics\n",
    "from scipy.spatial.distance import cdist"
   ]
  },
  {
   "cell_type": "markdown",
   "metadata": {},
   "source": [
    "### Elbow test"
   ]
  },
  {
   "cell_type": "markdown",
   "metadata": {},
   "source": [
    "I use Elbow test to find the most appropriate number of clusters. I will try two methods: Distortion and Inertia"
   ]
  },
  {
   "cell_type": "code",
   "execution_count": 10,
   "metadata": {},
   "outputs": [],
   "source": [
    "distortions = []\n",
    "inertias = []\n",
    "mapping1 = {}\n",
    "mapping2 = {}\n",
    "K = range(1, 10)\n",
    " \n",
    "for k in K:\n",
    "    # Building and fitting the model\n",
    "    kmeanModel = KMeans(n_clusters=k).fit(X_pca)\n",
    "    kmeanModel.fit(X_pca)\n",
    " \n",
    "    distortions.append(np.sum(np.min(cdist(X_pca, kmeanModel.cluster_centers_,\n",
    "                                        'euclidean'), axis=1)) / X_pca.shape[0])\n",
    "    inertias.append(kmeanModel.inertia_)\n",
    " \n",
    "    mapping1[k] = np.sum(np.min(cdist(X_pca, kmeanModel.cluster_centers_,\n",
    "                                   'euclidean'), axis=1)) / X_pca.shape[0]\n",
    "    mapping2[k] = kmeanModel.inertia_"
   ]
  },
  {
   "cell_type": "code",
   "execution_count": 11,
   "metadata": {},
   "outputs": [
    {
     "data": {
      "image/png": "[encoded data removed]",
      "text/plain": [
       "<Figure size 432x288 with 1 Axes>"
      ]
     },
     "metadata": {
      "needs_background": "light"
     },
     "output_type": "display_data"
    }
   ],
   "source": [
    "# It is calculated as the average of the squared distances from the cluster centers of the respective clusters. \n",
    "# Typically, the Euclidean distance metric is used.\n",
    "\n",
    "plt.plot(K, distortions, 'bx-')\n",
    "plt.xlabel('Values of K')\n",
    "plt.ylabel('Distortion')\n",
    "plt.title('The Elbow Method using Distortion')\n",
    "plt.show()"
   ]
  },
  {
   "cell_type": "code",
   "execution_count": 12,
   "metadata": {
    "scrolled": true
   },
   "outputs": [
    {
     "data": {
      "image/png": "[encoded data removed]",
      "text/plain": [
       "<Figure size 432x288 with 1 Axes>"
      ]
     },
     "metadata": {
      "needs_background": "light"
     },
     "output_type": "display_data"
    }
   ],
   "source": [
    "# It is the sum of squared distances of samples to their closest cluster center.\n",
    "\n",
    "plt.plot(K, inertias, 'bx-')\n",
    "plt.xlabel('Values of K')\n",
    "plt.ylabel('Inertia')\n",
    "plt.title('The Elbow Method using Inertia')\n",
    "plt.show()"
   ]
  },
  {
   "cell_type": "markdown",
   "metadata": {},
   "source": [
    "### Build clustering with k = 4"
   ]
  },
  {
   "cell_type": "code",
   "execution_count": null,
   "metadata": {},
   "outputs": [],
   "source": [
    "kmeanModel = KMeans(n_clusters=4).fit(df_pca)\n",
    "df_pca['kmean_group'] = kmeanModel.labels_\n",
    "df_pca"
   ]
  },
  {
   "cell_type": "code",
   "execution_count": 14,
   "metadata": {},
   "outputs": [
    {
     "data": {
      "text/html": [
       "<div>\n",
       "<style scoped>\n",
       "    .dataframe tbody tr th:only-of-type {\n",
       "        vertical-align: middle;\n",
       "    }\n",
       "\n",
       "    .dataframe tbody tr th {\n",
       "        vertical-align: top;\n",
       "    }\n",
       "\n",
       "    .dataframe thead th {\n",
       "        text-align: right;\n",
       "    }\n",
       "</style>\n",
       "<table border=\"1\" class=\"dataframe\">\n",
       "  <thead>\n",
       "    <tr style=\"text-align: right;\">\n",
       "      <th></th>\n",
       "      <th>district</th>\n",
       "      <th>ward</th>\n",
       "      <th>ward_id</th>\n",
       "      <th>pop_density</th>\n",
       "      <th>children_0_14</th>\n",
       "      <th>elders</th>\n",
       "      <th>labor_age</th>\n",
       "      <th>average_household</th>\n",
       "      <th>kmean_group</th>\n",
       "      <th>first_pc</th>\n",
       "      <th>second_pc</th>\n",
       "    </tr>\n",
       "  </thead>\n",
       "  <tbody>\n",
       "    <tr>\n",
       "      <td>0</td>\n",
       "      <td>Quan Ba Dinh</td>\n",
       "      <td>Phuong Phuc Xa</td>\n",
       "      <td>1</td>\n",
       "      <td>24.562</td>\n",
       "      <td>0.056411</td>\n",
       "      <td>0.209195</td>\n",
       "      <td>0.734394</td>\n",
       "      <td>3.743135</td>\n",
       "      <td>0</td>\n",
       "      <td>4.271899</td>\n",
       "      <td>-0.023395</td>\n",
       "    </tr>\n",
       "    <tr>\n",
       "      <td>1</td>\n",
       "      <td>Quan Ba Dinh</td>\n",
       "      <td>Phuong Truc Bach</td>\n",
       "      <td>4</td>\n",
       "      <td>13.962</td>\n",
       "      <td>0.045294</td>\n",
       "      <td>0.278698</td>\n",
       "      <td>0.676008</td>\n",
       "      <td>3.626797</td>\n",
       "      <td>0</td>\n",
       "      <td>3.587012</td>\n",
       "      <td>1.239137</td>\n",
       "    </tr>\n",
       "    <tr>\n",
       "      <td>2</td>\n",
       "      <td>Quan Ba Dinh</td>\n",
       "      <td>Phuong Vinh Phuc</td>\n",
       "      <td>6</td>\n",
       "      <td>33.376</td>\n",
       "      <td>0.062262</td>\n",
       "      <td>0.202246</td>\n",
       "      <td>0.735493</td>\n",
       "      <td>3.780013</td>\n",
       "      <td>0</td>\n",
       "      <td>4.491955</td>\n",
       "      <td>-0.056756</td>\n",
       "    </tr>\n",
       "    <tr>\n",
       "      <td>3</td>\n",
       "      <td>Quan Ba Dinh</td>\n",
       "      <td>Phuong Cong Vi</td>\n",
       "      <td>7</td>\n",
       "      <td>29.723</td>\n",
       "      <td>0.053570</td>\n",
       "      <td>0.222980</td>\n",
       "      <td>0.723450</td>\n",
       "      <td>3.667432</td>\n",
       "      <td>0</td>\n",
       "      <td>4.463703</td>\n",
       "      <td>0.348572</td>\n",
       "    </tr>\n",
       "    <tr>\n",
       "      <td>4</td>\n",
       "      <td>Quan Ba Dinh</td>\n",
       "      <td>Phuong Lieu Giai</td>\n",
       "      <td>8</td>\n",
       "      <td>30.974</td>\n",
       "      <td>0.054686</td>\n",
       "      <td>0.223487</td>\n",
       "      <td>0.721827</td>\n",
       "      <td>3.738961</td>\n",
       "      <td>0</td>\n",
       "      <td>4.409063</td>\n",
       "      <td>0.330299</td>\n",
       "    </tr>\n",
       "  </tbody>\n",
       "</table>\n",
       "</div>"
      ],
      "text/plain": [
       "       district              ward  ward_id  pop_density  children_0_14  \\\n",
       "0  Quan Ba Dinh    Phuong Phuc Xa        1       24.562       0.056411   \n",
       "1  Quan Ba Dinh  Phuong Truc Bach        4       13.962       0.045294   \n",
       "2  Quan Ba Dinh  Phuong Vinh Phuc        6       33.376       0.062262   \n",
       "3  Quan Ba Dinh    Phuong Cong Vi        7       29.723       0.053570   \n",
       "4  Quan Ba Dinh  Phuong Lieu Giai        8       30.974       0.054686   \n",
       "\n",
       "     elders  labor_age  average_household  kmean_group  first_pc  second_pc  \n",
       "0  0.209195   0.734394           3.743135            0  4.271899  -0.023395  \n",
       "1  0.278698   0.676008           3.626797            0  3.587012   1.239137  \n",
       "2  0.202246   0.735493           3.780013            0  4.491955  -0.056756  \n",
       "3  0.222980   0.723450           3.667432            0  4.463703   0.348572  \n",
       "4  0.223487   0.721827           3.738961            0  4.409063   0.330299  "
      ]
     },
     "execution_count": 14,
     "metadata": {},
     "output_type": "execute_result"
    }
   ],
   "source": [
    "df['kmean_group'] = df_pca['kmean_group']\n",
    "df[['first_pc', 'second_pc']] = df_pca[['first_pc', 'second_pc']]\n",
    "df.head()"
   ]
  },
  {
   "cell_type": "code",
   "execution_count": 15,
   "metadata": {},
   "outputs": [
    {
     "data": {
      "text/plain": [
       "Text(0, 0.5, 'Second principal component')"
      ]
     },
     "execution_count": 15,
     "metadata": {},
     "output_type": "execute_result"
    },
    {
     "data": {
      "image/png": "[encoded data removed]",
      "text/plain": [
       "<Figure size 432x288 with 1 Axes>"
      ]
     },
     "metadata": {
      "needs_background": "light"
     },
     "output_type": "display_data"
    }
   ],
   "source": [
    "plt.scatter(x=df['first_pc'], y=df['second_pc'], c=df['kmean_group'])\n",
    "plt.title(\"Kmean clustering\")\n",
    "plt.xlabel('First principal component')\n",
    "plt.ylabel('Second principal component')"
   ]
  },
  {
   "cell_type": "code",
   "execution_count": 16,
   "metadata": {},
   "outputs": [
    {
     "data": {
      "text/html": [
       "<div>\n",
       "<style scoped>\n",
       "    .dataframe tbody tr th:only-of-type {\n",
       "        vertical-align: middle;\n",
       "    }\n",
       "\n",
       "    .dataframe tbody tr th {\n",
       "        vertical-align: top;\n",
       "    }\n",
       "\n",
       "    .dataframe thead th {\n",
       "        text-align: right;\n",
       "    }\n",
       "</style>\n",
       "<table border=\"1\" class=\"dataframe\">\n",
       "  <thead>\n",
       "    <tr style=\"text-align: right;\">\n",
       "      <th></th>\n",
       "      <th>pop_density</th>\n",
       "      <th>children_0_14</th>\n",
       "      <th>elders</th>\n",
       "      <th>labor_age</th>\n",
       "      <th>average_household</th>\n",
       "    </tr>\n",
       "    <tr>\n",
       "      <th>kmean_group</th>\n",
       "      <th></th>\n",
       "      <th></th>\n",
       "      <th></th>\n",
       "      <th></th>\n",
       "      <th></th>\n",
       "    </tr>\n",
       "  </thead>\n",
       "  <tbody>\n",
       "    <tr>\n",
       "      <td>0</td>\n",
       "      <td>35.412118</td>\n",
       "      <td>0.173263</td>\n",
       "      <td>0.192689</td>\n",
       "      <td>0.634048</td>\n",
       "      <td>3.445176</td>\n",
       "    </tr>\n",
       "    <tr>\n",
       "      <td>1</td>\n",
       "      <td>3.177698</td>\n",
       "      <td>0.258935</td>\n",
       "      <td>0.156203</td>\n",
       "      <td>0.586104</td>\n",
       "      <td>3.890566</td>\n",
       "    </tr>\n",
       "    <tr>\n",
       "      <td>2</td>\n",
       "      <td>2.158500</td>\n",
       "      <td>0.258928</td>\n",
       "      <td>0.407783</td>\n",
       "      <td>0.333288</td>\n",
       "      <td>3.989435</td>\n",
       "    </tr>\n",
       "    <tr>\n",
       "      <td>3</td>\n",
       "      <td>4.755034</td>\n",
       "      <td>0.232261</td>\n",
       "      <td>0.271839</td>\n",
       "      <td>0.568338</td>\n",
       "      <td>3.521041</td>\n",
       "    </tr>\n",
       "  </tbody>\n",
       "</table>\n",
       "</div>"
      ],
      "text/plain": [
       "             pop_density  children_0_14    elders  labor_age  \\\n",
       "kmean_group                                                    \n",
       "0              35.412118       0.173263  0.192689   0.634048   \n",
       "1               3.177698       0.258935  0.156203   0.586104   \n",
       "2               2.158500       0.258928  0.407783   0.333288   \n",
       "3               4.755034       0.232261  0.271839   0.568338   \n",
       "\n",
       "             average_household  \n",
       "kmean_group                     \n",
       "0                     3.445176  \n",
       "1                     3.890566  \n",
       "2                     3.989435  \n",
       "3                     3.521041  "
      ]
     },
     "execution_count": 16,
     "metadata": {},
     "output_type": "execute_result"
    }
   ],
   "source": [
    "# calculate mean values of each group\n",
    "\n",
    "cluster_group = df.groupby(['kmean_group'])[features].mean()\n",
    "cluster_group"
   ]
  },
  {
   "cell_type": "markdown",
   "metadata": {},
   "source": [
    "## 5. Visualization on map"
   ]
  },
  {
   "cell_type": "code",
   "execution_count": 17,
   "metadata": {},
   "outputs": [
    {
     "name": "stdout",
     "output_type": "stream",
     "text": [
      "Requirement already satisfied: plotly in c:\\users\\linhl\\appdata\\local\\continuum\\anaconda3\\lib\\site-packages (4.14.3)\n",
      "Requirement already satisfied: retrying>=1.3.3 in c:\\users\\linhl\\appdata\\local\\continuum\\anaconda3\\lib\\site-packages (from plotly) (1.3.3)\n",
      "Requirement already satisfied: six in c:\\users\\linhl\\appdata\\local\\continuum\\anaconda3\\lib\\site-packages (from plotly) (1.12.0)\n"
     ]
    }
   ],
   "source": [
    "!pip install plotly\n",
    "import json\n",
    "import plotly.express as px"
   ]
  },
  {
   "cell_type": "code",
   "execution_count": 18,
   "metadata": {},
   "outputs": [],
   "source": [
    "file = open('Hanoi_new_location.json', encoding='utf8')\n",
    "geojson = json.load(file)\n",
    "\n",
    "df['ward_id'] = df['ward_id'].astype('str')\n",
    "df['kmean_group'] = df['kmean_group'].astype('str')\n",
    "features = geojson['features']\n",
    "\n",
    "# Add ward id to geojson\n",
    "for y in range(len(features)):\n",
    "    for x in range(len(df.index)):\n",
    "        if (df.loc[x, 'ward'] == features[y][\"properties\"][\"Name\"]) and (df.loc[x, 'district'] == features[y][\"properties\"][\"Quan\"]):\n",
    "            features[y][\"id\"] = df.loc[x, 'ward_id']"
   ]
  },
  {
   "cell_type": "code",
   "execution_count": null,
   "metadata": {},
   "outputs": [],
   "source": [
    "fig = px.choropleth_mapbox(df, geojson=geojson, locations='ward_id', color='kmean_group',\n",
    "                           hover_name='ward', center={'lat': 21.0278, 'lon': 105.8342},\n",
    "                           color_discrete_sequence=px.colors.qualitative.G10,\n",
    "                           zoom=8)\n",
    "\n",
    "fig.update_layout(legend=dict(\n",
    "    yanchor='top', xanchor='left', y=1, x=1, orientation='v'))\n",
    "fig.update_layout(mapbox_style='carto-positron')\n",
    "fig.update_layout(width=800, height=600)\n",
    "fig.update_traces(marker_line=dict(width=1, color='white'))"
   ]
  },
  {
   "cell_type": "markdown",
   "metadata": {},
   "source": [
    "*The areas that are not colored belong to cluster 1. I tried the code on PyCharm and that area is colored, so I think it is Jupyter Notebook's flaw*"
   ]
  }
 ],
 "metadata": {
  "kernelspec": {
   "display_name": "Python 3",
   "language": "python",
   "name": "python3"
  },
  "language_info": {
   "codemirror_mode": {
    "name": "ipython",
    "version": 3
   },
   "file_extension": ".py",
   "mimetype": "text/x-python",
   "name": "python",
   "nbconvert_exporter": "python",
   "pygments_lexer": "ipython3",
   "version": "3.7.4"
  }
 },
 "nbformat": 4,
 "nbformat_minor": 2
}
